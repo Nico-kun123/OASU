{
 "cells": [
  {
   "cell_type": "markdown",
   "id": "d7484772",
   "metadata": {},
   "source": [
    "#### Знакомство с библиотекой NumPy\n",
    "\n",
    "Кудрявцев Николай Михайлович.\n",
    "КИ19-09Б, 031940750\n",
    "\n",
    "NumPy — библиотека для работы с многомерными массивами и математических вычислений различного рода.  \n",
    "NumPy можно рассматривать как некую альтернативу MATLAB.  \n",
    "   \n",
    "[Документация NumPy](https://numpy.org/doc/stable/reference/index.html)"
   ]
  },
  {
   "cell_type": "markdown",
   "id": "e42707f5",
   "metadata": {},
   "source": [
    "**Импорт библиотеки NumPy:**"
   ]
  },
  {
   "cell_type": "code",
   "execution_count": 3,
   "id": "c7c2e100",
   "metadata": {},
   "outputs": [],
   "source": [
    "import numpy as np\n",
    "import random"
   ]
  },
  {
   "cell_type": "markdown",
   "id": "ef5c23d7",
   "metadata": {},
   "source": [
    "**Создание одномерного массива:**"
   ]
  },
  {
   "cell_type": "code",
   "execution_count": 181,
   "id": "2b459c8a",
   "metadata": {},
   "outputs": [],
   "source": [
    "array_1D = np.array([1, 0, 2, 3])"
   ]
  },
  {
   "cell_type": "markdown",
   "id": "da0c9880",
   "metadata": {},
   "source": [
    "**Вывод массива для ознакомления:**"
   ]
  },
  {
   "cell_type": "code",
   "execution_count": 182,
   "id": "654992b2",
   "metadata": {},
   "outputs": [
    {
     "data": {
      "text/plain": [
       "array([1, 0, 2, 3])"
      ]
     },
     "execution_count": 182,
     "metadata": {},
     "output_type": "execute_result"
    }
   ],
   "source": [
    "array_1D"
   ]
  },
  {
   "cell_type": "markdown",
   "id": "c3a44d65",
   "metadata": {},
   "source": [
    "**Создание двумерного массива:**\n"
   ]
  },
  {
   "cell_type": "code",
   "execution_count": 183,
   "id": "fc78cea8",
   "metadata": {},
   "outputs": [
    {
     "data": {
      "text/plain": [
       "array([[ 1,  0,  2],\n",
       "       [ 3,  4,  5],\n",
       "       [ 6,  8,  7],\n",
       "       [12, 22,  9]])"
      ]
     },
     "execution_count": 183,
     "metadata": {},
     "output_type": "execute_result"
    }
   ],
   "source": [
    "array_2D = np.array([[1, 0, 2], [3, 4, 5], [6, 8, 7], [12, 22, 9]])\n",
    "array_2D"
   ]
  },
  {
   "cell_type": "markdown",
   "id": "16736296",
   "metadata": {},
   "source": [
    "**Просмотр типа данных элементов массива:**"
   ]
  },
  {
   "cell_type": "code",
   "execution_count": 184,
   "id": "c45e9ebc",
   "metadata": {},
   "outputs": [
    {
     "data": {
      "text/plain": [
       "dtype('int32')"
      ]
     },
     "execution_count": 184,
     "metadata": {},
     "output_type": "execute_result"
    }
   ],
   "source": [
    "array_2D.dtype"
   ]
  },
  {
   "cell_type": "markdown",
   "id": "9ef5ef1f",
   "metadata": {},
   "source": [
    "**Тип данных можно задать при создании массива:**"
   ]
  },
  {
   "cell_type": "code",
   "execution_count": 185,
   "id": "70a614be",
   "metadata": {},
   "outputs": [
    {
     "name": "stdout",
     "output_type": "stream",
     "text": [
      "float64 - тип данных\n",
      "[1.] - значение переменных массива\n"
     ]
    },
    {
     "name": "stderr",
     "output_type": "stream",
     "text": [
      "C:\\Users\\413\\AppData\\Local\\Temp\\ipykernel_17672\\2301629707.py:1: DeprecationWarning: `np.float` is a deprecated alias for the builtin `float`. To silence this warning, use `float` by itself. Doing this will not modify any behavior and is safe. If you specifically wanted the numpy scalar type, use `np.float64` here.\n",
      "Deprecated in NumPy 1.20; for more details and guidance: https://numpy.org/devdocs/release/1.20.0-notes.html#deprecations\n",
      "  array_int32 = np.array([1], dtype = np.float)\n"
     ]
    }
   ],
   "source": [
    "array_int32 = np.array([1], dtype = np.float)\n",
    "print(array_int32.dtype, \"- тип данных\")\n",
    "print(array_int32, \"- значение переменных массива\")"
   ]
  },
  {
   "cell_type": "markdown",
   "id": "522ff030",
   "metadata": {},
   "source": [
    "**Вывод размерности массива:**"
   ]
  },
  {
   "cell_type": "code",
   "execution_count": 186,
   "id": "c6326677",
   "metadata": {},
   "outputs": [
    {
     "name": "stdout",
     "output_type": "stream",
     "text": [
      "(4,) - количество элементов одномерного массива\n",
      "(4, 3) - количество строк и столбцов двумерного массива\n",
      "4 - количество элементов одномерного массива\n",
      "12 - количество элементов двумерно массива\n"
     ]
    }
   ],
   "source": [
    "print(array_1D.shape, \"- количество элементов одномерного массива\")\n",
    "print(array_2D.shape, \"- количество строк и столбцов двумерного массива\")\n",
    "\n",
    "print(array_1D.size, \"- количество элементов одномерного массива\")\n",
    "print(array_2D.size, \"- количество элементов двумерно массива\")"
   ]
  },
  {
   "cell_type": "markdown",
   "id": "a0080c10",
   "metadata": {},
   "source": [
    "**Варианты автоматического заполнения массивов:**"
   ]
  },
  {
   "cell_type": "code",
   "execution_count": 187,
   "id": "88c7cc88",
   "metadata": {},
   "outputs": [
    {
     "data": {
      "text/plain": [
       "array([[1., 1.],\n",
       "       [1., 1.]])"
      ]
     },
     "execution_count": 187,
     "metadata": {},
     "output_type": "execute_result"
    }
   ],
   "source": [
    "np.ones((2, 2))"
   ]
  },
  {
   "cell_type": "code",
   "execution_count": 188,
   "id": "53d81dd6",
   "metadata": {},
   "outputs": [
    {
     "data": {
      "text/plain": [
       "array([[0., 0., 0.],\n",
       "       [0., 0., 0.]])"
      ]
     },
     "execution_count": 188,
     "metadata": {},
     "output_type": "execute_result"
    }
   ],
   "source": [
    "np.zeros((2, 3))"
   ]
  },
  {
   "cell_type": "code",
   "execution_count": 189,
   "id": "85f52ee8",
   "metadata": {},
   "outputs": [
    {
     "data": {
      "text/plain": [
       "array([[1., 0., 0., 0.],\n",
       "       [0., 1., 0., 0.],\n",
       "       [0., 0., 1., 0.],\n",
       "       [0., 0., 0., 1.]])"
      ]
     },
     "execution_count": 189,
     "metadata": {},
     "output_type": "execute_result"
    }
   ],
   "source": [
    "np.eye(4)"
   ]
  },
  {
   "cell_type": "code",
   "execution_count": 190,
   "id": "f442ea44",
   "metadata": {},
   "outputs": [
    {
     "data": {
      "text/plain": [
       "array([[0.0288164 , 0.50409106, 0.62960086, 0.15183021],\n",
       "       [0.6894392 , 0.97827303, 0.43237745, 0.09378745]])"
      ]
     },
     "execution_count": 190,
     "metadata": {},
     "output_type": "execute_result"
    }
   ],
   "source": [
    "np.random.random((2, 4))"
   ]
  },
  {
   "cell_type": "code",
   "execution_count": 191,
   "id": "8c6ee6da",
   "metadata": {},
   "outputs": [
    {
     "data": {
      "text/plain": [
       "array([[5, 5],\n",
       "       [5, 5]])"
      ]
     },
     "execution_count": 191,
     "metadata": {},
     "output_type": "execute_result"
    }
   ],
   "source": [
    "np.full((2, 2), 5)"
   ]
  },
  {
   "cell_type": "code",
   "execution_count": 192,
   "id": "bfeefa04",
   "metadata": {},
   "outputs": [
    {
     "data": {
      "text/plain": [
       "array([ 0,  1,  2,  3,  4,  5,  6,  7,  8,  9, 10, 11, 12, 13, 14])"
      ]
     },
     "execution_count": 192,
     "metadata": {},
     "output_type": "execute_result"
    }
   ],
   "source": [
    "np.arange(15)"
   ]
  },
  {
   "cell_type": "markdown",
   "id": "88d71f32",
   "metadata": {},
   "source": [
    "**Обращение к элементу массива по его индексу:**  \n",
    "*(индексация начинается с нуля)*"
   ]
  },
  {
   "cell_type": "code",
   "execution_count": 193,
   "id": "774a19de",
   "metadata": {},
   "outputs": [
    {
     "name": "stdout",
     "output_type": "stream",
     "text": [
      "[1 0 2 3]\n"
     ]
    },
    {
     "data": {
      "text/plain": [
       "0"
      ]
     },
     "execution_count": 193,
     "metadata": {},
     "output_type": "execute_result"
    }
   ],
   "source": [
    "print(array_1D)\n",
    "array_1D[1]"
   ]
  },
  {
   "cell_type": "code",
   "execution_count": 194,
   "id": "3affd611",
   "metadata": {},
   "outputs": [
    {
     "name": "stdout",
     "output_type": "stream",
     "text": [
      "[[ 1  0  2]\n",
      " [ 3  4  5]\n",
      " [ 6  8  7]\n",
      " [12 22  9]]\n"
     ]
    },
    {
     "data": {
      "text/plain": [
       "5"
      ]
     },
     "execution_count": 194,
     "metadata": {},
     "output_type": "execute_result"
    }
   ],
   "source": [
    "print(array_2D)\n",
    "array_2D[1, 2]"
   ]
  },
  {
   "cell_type": "code",
   "execution_count": 195,
   "id": "0ae6028c",
   "metadata": {},
   "outputs": [
    {
     "name": "stdout",
     "output_type": "stream",
     "text": [
      "[[ 1  0  2]\n",
      " [ 3  4  5]\n",
      " [ 6  8  7]\n",
      " [12 22  9]]\n"
     ]
    },
    {
     "data": {
      "text/plain": [
       "array([[1, 0, 2],\n",
       "       [3, 4, 5]])"
      ]
     },
     "execution_count": 195,
     "metadata": {},
     "output_type": "execute_result"
    }
   ],
   "source": [
    "print(array_2D[:, :])\n",
    "array_2D[:2, :3]"
   ]
  },
  {
   "cell_type": "code",
   "execution_count": 196,
   "id": "174e4384",
   "metadata": {},
   "outputs": [
    {
     "data": {
      "text/plain": [
       "3"
      ]
     },
     "execution_count": 196,
     "metadata": {},
     "output_type": "execute_result"
    }
   ],
   "source": [
    "np.argmax(array_1D) # индекс максимального элемента массива\n",
    "array_1D[np.argmax(array_1D)]"
   ]
  },
  {
   "cell_type": "markdown",
   "id": "20c5be38",
   "metadata": {},
   "source": [
    "**Просмотр элементов массива, удовлетворяющих условию:**"
   ]
  },
  {
   "cell_type": "code",
   "execution_count": 197,
   "id": "13f54848",
   "metadata": {},
   "outputs": [
    {
     "data": {
      "text/plain": [
       "array([[False, False, False],\n",
       "       [False, False, False],\n",
       "       [ True,  True,  True],\n",
       "       [ True,  True,  True]])"
      ]
     },
     "execution_count": 197,
     "metadata": {},
     "output_type": "execute_result"
    }
   ],
   "source": [
    "array_2D > 5"
   ]
  },
  {
   "cell_type": "code",
   "execution_count": 198,
   "id": "23045a1d",
   "metadata": {},
   "outputs": [
    {
     "data": {
      "text/plain": [
       "array([ 6,  8,  7, 12, 22,  9])"
      ]
     },
     "execution_count": 198,
     "metadata": {},
     "output_type": "execute_result"
    }
   ],
   "source": [
    "array_2D[array_2D > 5]"
   ]
  },
  {
   "cell_type": "markdown",
   "id": "562daf4c",
   "metadata": {},
   "source": [
    "**Изменение размерности матрицы:**"
   ]
  },
  {
   "cell_type": "code",
   "execution_count": 199,
   "id": "19577c09",
   "metadata": {},
   "outputs": [
    {
     "name": "stdout",
     "output_type": "stream",
     "text": [
      "[[ 1  0  2]\n",
      " [ 3  4  5]\n",
      " [ 6  8  7]\n",
      " [12 22  9]]\n"
     ]
    },
    {
     "data": {
      "text/plain": [
       "array([ 1,  0,  2,  3,  4,  5,  6,  8,  7, 12, 22,  9])"
      ]
     },
     "execution_count": 199,
     "metadata": {},
     "output_type": "execute_result"
    }
   ],
   "source": [
    "print(array_2D)\n",
    "array_2D.flatten()"
   ]
  },
  {
   "cell_type": "code",
   "execution_count": 200,
   "id": "bd77fe45",
   "metadata": {},
   "outputs": [
    {
     "name": "stdout",
     "output_type": "stream",
     "text": [
      "[[ 1  0  2]\n",
      " [ 3  4  5]\n",
      " [ 6  8  7]\n",
      " [12 22  9]]\n"
     ]
    },
    {
     "data": {
      "text/plain": [
       "array([[ 1,  0],\n",
       "       [ 2,  3],\n",
       "       [ 4,  5],\n",
       "       [ 6,  8],\n",
       "       [ 7, 12],\n",
       "       [22,  9]])"
      ]
     },
     "execution_count": 200,
     "metadata": {},
     "output_type": "execute_result"
    }
   ],
   "source": [
    "print(array_2D)\n",
    "array_2D.reshape(6,2)"
   ]
  },
  {
   "cell_type": "code",
   "execution_count": 201,
   "id": "e6525f3d",
   "metadata": {},
   "outputs": [
    {
     "name": "stdout",
     "output_type": "stream",
     "text": [
      "[[ 1  0  2]\n",
      " [ 3  4  5]\n",
      " [ 6  8  7]\n",
      " [12 22  9]]\n"
     ]
    },
    {
     "data": {
      "text/plain": [
       "array([[ 1,  0,  2,  3,  4,  5],\n",
       "       [ 6,  8,  7, 12, 22,  9]])"
      ]
     },
     "execution_count": 201,
     "metadata": {},
     "output_type": "execute_result"
    }
   ],
   "source": [
    "# Метод resize() изменяет размерность массива и перезаписывает его\n",
    "print(array_2D)\n",
    "array_2D.resize(2, 6)\n",
    "array_2D"
   ]
  },
  {
   "cell_type": "markdown",
   "id": "267445c3",
   "metadata": {},
   "source": [
    "**Арифметические действия с массивами:**"
   ]
  },
  {
   "cell_type": "code",
   "execution_count": 202,
   "id": "0bc461c3",
   "metadata": {},
   "outputs": [],
   "source": [
    "a = np.array([1, 2])\n",
    "b = np.array([2, 3])"
   ]
  },
  {
   "cell_type": "code",
   "execution_count": 203,
   "id": "5fe49b0b",
   "metadata": {},
   "outputs": [
    {
     "name": "stdout",
     "output_type": "stream",
     "text": [
      "[3 5] \n",
      "\n",
      "[3 5]\n"
     ]
    }
   ],
   "source": [
    "# сложение\n",
    "print(a + b, '\\n')\n",
    "print(np.add(a, b))"
   ]
  },
  {
   "cell_type": "code",
   "execution_count": 204,
   "id": "009148e5",
   "metadata": {},
   "outputs": [
    {
     "name": "stdout",
     "output_type": "stream",
     "text": [
      "[-1 -1] \n",
      "\n",
      "[-1 -1]\n"
     ]
    }
   ],
   "source": [
    "# вычитание\n",
    "print(a - b, '\\n')\n",
    "print(np.subtract(a, b))"
   ]
  },
  {
   "cell_type": "code",
   "execution_count": 205,
   "id": "58564533",
   "metadata": {},
   "outputs": [
    {
     "name": "stdout",
     "output_type": "stream",
     "text": [
      "[0.5        0.66666667] \n",
      "\n",
      "[0.5        0.66666667]\n"
     ]
    }
   ],
   "source": [
    "# деление\n",
    "print(a / b, '\\n')\n",
    "print(np.divide(a, b))"
   ]
  },
  {
   "cell_type": "code",
   "execution_count": 206,
   "id": "0ae80057",
   "metadata": {},
   "outputs": [
    {
     "name": "stdout",
     "output_type": "stream",
     "text": [
      "[2 6] \n",
      "\n",
      "[2 6]\n"
     ]
    }
   ],
   "source": [
    "# поэлементное умножение\n",
    "print(a * b, '\\n')\n",
    "print(np.multiply(a, b))"
   ]
  },
  {
   "cell_type": "markdown",
   "id": "c145bf4e",
   "metadata": {},
   "source": [
    "**Скалярное произведение векторов, умножение матриц:**"
   ]
  },
  {
   "cell_type": "code",
   "execution_count": 207,
   "id": "5b476b1e",
   "metadata": {},
   "outputs": [],
   "source": [
    "a = np.array([2, 3])\n",
    "b = np.array([[4], [5]])"
   ]
  },
  {
   "cell_type": "code",
   "execution_count": 208,
   "id": "84f9cdeb",
   "metadata": {},
   "outputs": [
    {
     "name": "stdout",
     "output_type": "stream",
     "text": [
      "[23] \n",
      "\n",
      "[23]\n"
     ]
    }
   ],
   "source": [
    "print(np.dot(a, b), '\\n')\n",
    "print(a @ b)"
   ]
  },
  {
   "cell_type": "code",
   "execution_count": 209,
   "id": "dd7904f9",
   "metadata": {},
   "outputs": [
    {
     "name": "stdout",
     "output_type": "stream",
     "text": [
      "[6 9] \n",
      "\n",
      "[6 9]\n"
     ]
    }
   ],
   "source": [
    "print(np.dot(a, 3), '\\n')\n",
    "print(a * 3)"
   ]
  },
  {
   "cell_type": "markdown",
   "id": "e6260e0a",
   "metadata": {},
   "source": [
    "**Суммирование элементов массива:**"
   ]
  },
  {
   "cell_type": "code",
   "execution_count": 210,
   "id": "90fc8245",
   "metadata": {},
   "outputs": [
    {
     "data": {
      "text/plain": [
       "6"
      ]
     },
     "execution_count": 210,
     "metadata": {},
     "output_type": "execute_result"
    }
   ],
   "source": [
    "a = np.array([1, 2, 3])\n",
    "np.sum(a)"
   ]
  },
  {
   "cell_type": "code",
   "execution_count": 211,
   "id": "7e3272a8",
   "metadata": {},
   "outputs": [
    {
     "name": "stdout",
     "output_type": "stream",
     "text": [
      "[2. 4. 6.]\n"
     ]
    },
    {
     "data": {
      "text/plain": [
       "12"
      ]
     },
     "execution_count": 211,
     "metadata": {},
     "output_type": "execute_result"
    }
   ],
   "source": [
    "a = a * 2.0 # изменение типа элементов массива на float\n",
    "print(a)\n",
    "np.sum(a, dtype = np.int64) # суммирование элементов массива и приведение к типу int"
   ]
  },
  {
   "cell_type": "code",
   "execution_count": 212,
   "id": "f8ec81a2",
   "metadata": {},
   "outputs": [
    {
     "data": {
      "text/plain": [
       "array([ 6,  8, 10])"
      ]
     },
     "execution_count": 212,
     "metadata": {},
     "output_type": "execute_result"
    }
   ],
   "source": [
    "# сумма элементов по столбцам\n",
    "a = np.array([[4, 5, 6], [2, 3, 4]])\n",
    "np.sum(a, axis = 0)"
   ]
  },
  {
   "cell_type": "code",
   "execution_count": 213,
   "id": "93f1e7eb",
   "metadata": {},
   "outputs": [
    {
     "data": {
      "text/plain": [
       "array([15,  9])"
      ]
     },
     "execution_count": 213,
     "metadata": {},
     "output_type": "execute_result"
    }
   ],
   "source": [
    "# сумма элементов по строкам\n",
    "np.sum(a, axis = 1)"
   ]
  },
  {
   "cell_type": "markdown",
   "id": "22e1cb6a",
   "metadata": {},
   "source": [
    "**Модуль каждого элемента массива:**"
   ]
  },
  {
   "cell_type": "code",
   "execution_count": 214,
   "id": "c4f00118",
   "metadata": {},
   "outputs": [
    {
     "name": "stdout",
     "output_type": "stream",
     "text": [
      "[2 3 4]\n",
      "[2. 3. 4.]\n"
     ]
    }
   ],
   "source": [
    "a = np.array([-2, 3, -4])\n",
    "print(np.abs(a)) # возвращает модуль того же типа, что и исходный массив\n",
    "print(np.fabs(a)) # возвращает модуль типа float\n"
   ]
  },
  {
   "cell_type": "markdown",
   "id": "02f3304a",
   "metadata": {},
   "source": [
    "**Объединение массивов:**"
   ]
  },
  {
   "cell_type": "code",
   "execution_count": 215,
   "id": "a1d7bbd0",
   "metadata": {},
   "outputs": [
    {
     "data": {
      "text/plain": [
       "array([1, 2, 3, 4, 5, 6])"
      ]
     },
     "execution_count": 215,
     "metadata": {},
     "output_type": "execute_result"
    }
   ],
   "source": [
    "a = np.array([1, 2, 3])\n",
    "b = np.array([4, 5, 6])\n",
    "\n",
    "np.concatenate((a, b))"
   ]
  },
  {
   "cell_type": "code",
   "execution_count": 216,
   "id": "fd26d425",
   "metadata": {},
   "outputs": [
    {
     "name": "stdout",
     "output_type": "stream",
     "text": [
      "[[1 2 3]\n",
      " [4 5 6]]\n",
      "\n",
      "[[1 4]\n",
      " [2 5]\n",
      " [3 6]]\n"
     ]
    }
   ],
   "source": [
    "print(np.stack((a, b)))\n",
    "print()\n",
    "print(np.stack((a, b), axis = 1))"
   ]
  },
  {
   "cell_type": "markdown",
   "id": "ee094066",
   "metadata": {},
   "source": [
    "**Разделение массивов:**"
   ]
  },
  {
   "cell_type": "code",
   "execution_count": 217,
   "id": "6296b684",
   "metadata": {},
   "outputs": [
    {
     "name": "stdout",
     "output_type": "stream",
     "text": [
      "[0 1]\n",
      "[2 3]\n",
      "[4]\n"
     ]
    }
   ],
   "source": [
    "a = np.arange(5)\n",
    "c = np.array_split(a, 3)\n",
    "print(c[0])\n",
    "print(c[1])\n",
    "print(c[2])"
   ]
  },
  {
   "cell_type": "markdown",
   "id": "4d663a41",
   "metadata": {},
   "source": [
    "**Другие действия с массивами:**"
   ]
  },
  {
   "cell_type": "code",
   "execution_count": 218,
   "id": "f757f17f",
   "metadata": {},
   "outputs": [
    {
     "data": {
      "text/plain": [
       "array([1, 3, 2, 3, 1], dtype=int64)"
      ]
     },
     "execution_count": 218,
     "metadata": {},
     "output_type": "execute_result"
    }
   ],
   "source": [
    "# подсчет количества вхождений каждого элемента массива\n",
    "a = np.array([0, 1, 2, 2, 1, 1, 3, 3, 3, 4]) \n",
    "np.bincount(a)"
   ]
  },
  {
   "cell_type": "code",
   "execution_count": 219,
   "id": "c7812b07",
   "metadata": {},
   "outputs": [
    {
     "name": "stdout",
     "output_type": "stream",
     "text": [
      "[9 5 5 5 8 1 8 8 3 8]\n"
     ]
    },
    {
     "data": {
      "text/plain": [
       "array([5, 8, 3, 2, 1, 4, 9, 7, 6, 0], dtype=int64)"
      ]
     },
     "execution_count": 219,
     "metadata": {},
     "output_type": "execute_result"
    }
   ],
   "source": [
    "a = np.random.randint(1, 10, 10) \n",
    "print(a)\n",
    "np.argpartition(a, kth = 3) # сортирует kth-ый элемент массива, \n",
    "                            # значения меньше kth-ого элемента будут расположены слева от него, \n",
    "                            # а больше - справа в произвольном порядке. Функция возвращает ИНДЕКСЫ элементов."
   ]
  },
  {
   "cell_type": "code",
   "execution_count": 220,
   "id": "c2eccffa",
   "metadata": {},
   "outputs": [
    {
     "name": "stdout",
     "output_type": "stream",
     "text": [
      "[[0 1 2]\n",
      " [3 4 5]] \n",
      "\n",
      "[[0 2]\n",
      " [3 5]]\n",
      "\n",
      "[[3 4 5]]\n"
     ]
    }
   ],
   "source": [
    "# удаление строк или столбцов матрицы\n",
    "np.arange(4, 6, 1)\n",
    "a = np.array([np.arange(3), np.arange(3,6)])\n",
    "print(a, \"\\n\")\n",
    "print(np.delete(a, 1, axis = 1)) # удаление второго столбца\n",
    "print()\n",
    "print(np.delete(a, 0, axis = 0)) # удаление первой строки"
   ]
  },
  {
   "cell_type": "markdown",
   "id": "271f4fd1",
   "metadata": {},
   "source": [
    "# Задачи для самостоятельного решения  \n",
    "---"
   ]
  },
  {
   "cell_type": "markdown",
   "id": "23b828f0",
   "metadata": {},
   "source": [
    "**1. Создать одномерный массив, заполненный двойками, но 6-ой элемент равен 8**"
   ]
  },
  {
   "cell_type": "code",
   "execution_count": 260,
   "id": "580568f6",
   "metadata": {},
   "outputs": [
    {
     "data": {
      "text/plain": [
       "array([[2, 2, 2, 2, 2, 2, 8, 2]])"
      ]
     },
     "execution_count": 260,
     "metadata": {},
     "output_type": "execute_result"
    }
   ],
   "source": [
    "array_A = np.full((1, 8), 2)\n",
    "array_A[0,6] = 8\n",
    "array_A"
   ]
  },
  {
   "cell_type": "markdown",
   "id": "1b350a10",
   "metadata": {},
   "source": [
    "**2. Создать одномерный массив, со значениями от 15 до 98**"
   ]
  },
  {
   "cell_type": "code",
   "execution_count": 261,
   "id": "93a49107",
   "metadata": {},
   "outputs": [
    {
     "data": {
      "text/plain": [
       "array([41, 30, 93, 74, 95])"
      ]
     },
     "execution_count": 261,
     "metadata": {},
     "output_type": "execute_result"
    }
   ],
   "source": [
    "array_B = np.random.randint(15, 98, 5)\n",
    "array_B"
   ]
  },
  {
   "cell_type": "markdown",
   "id": "7c8dde78",
   "metadata": {},
   "source": [
    "**3. Перевернуть вектор  \n",
    "*(123 -> 321)***"
   ]
  },
  {
   "cell_type": "code",
   "execution_count": 262,
   "id": "26cc8d85",
   "metadata": {},
   "outputs": [
    {
     "data": {
      "text/plain": [
       "array([3, 2, 1])"
      ]
     },
     "execution_count": 262,
     "metadata": {},
     "output_type": "execute_result"
    }
   ],
   "source": [
    "array_C = np.array([1, 2, 3])\n",
    "reversed_array_C = array_C[::-1]\n",
    "reversed_array_C"
   ]
  },
  {
   "cell_type": "markdown",
   "id": "503509ab",
   "metadata": {},
   "source": [
    "**4. Найти минимальный и максимальный элемент двумерного массива размерностью 15х15**"
   ]
  },
  {
   "cell_type": "code",
   "execution_count": 265,
   "id": "24b91cbd",
   "metadata": {},
   "outputs": [
    {
     "data": {
      "text/plain": [
       "array([[64, 23, 42,  3, 73, 71, 42, 63, 60, 19, 86, 70, 37, 83,  1],\n",
       "       [69, 50, 93, 47, 41, 18, 90, 64, 65, 54, 26, 50, 29, 10, 10],\n",
       "       [ 9, 77, 93, 12, 58, 10, 86, 30, 40, 11,  1, 42, 13, 85, 78],\n",
       "       [83, 71, 66, 31, 90, 87, 48, 91, 55, 54, 59, 71,  4, 68,  3],\n",
       "       [24, 19, 33, 80, 78, 47, 92, 98, 44, 23, 80, 18, 64, 52, 59],\n",
       "       [11, 70, 78, 33, 94, 40, 98, 32, 91, 28, 23,  4, 33, 91, 90],\n",
       "       [79, 58, 30, 64, 90, 61, 46, 96,  8, 47, 21, 37, 86, 96, 20],\n",
       "       [45, 61,  6,  5, 89, 84,  2,  1, 41, 41, 79,  6, 55, 96, 58],\n",
       "       [44, 51, 42,  1, 61, 72, 94, 68, 70, 35, 60, 62,  0,  9, 22],\n",
       "       [39, 43,  3, 27, 84, 91, 94, 64, 23, 82,  2, 48, 14, 74, 19],\n",
       "       [49, 47, 82, 39, 30, 81, 73, 85, 63, 94, 89, 98, 21,  9, 51],\n",
       "       [97, 81, 56, 48, 56, 51, 36, 28, 71,  1, 62, 32, 72, 83, 74],\n",
       "       [ 3, 42, 56, 41, 36, 34, 75, 26, 68, 86, 34, 60, 52, 47, 71],\n",
       "       [55, 39, 86, 34, 68, 84, 80, 52, 21, 81, 90, 15, 24, 47, 46],\n",
       "       [ 2, 73, 53, 25, 22, 71, 62,  8, 42, 85, 33, 22, 37, 16,  9]])"
      ]
     },
     "execution_count": 265,
     "metadata": {},
     "output_type": "execute_result"
    }
   ],
   "source": [
    "# Двумерный массив 15х15\n",
    "array_D = np.random.randint(100, size=(15, 15))\n",
    "array_D"
   ]
  },
  {
   "cell_type": "code",
   "execution_count": 266,
   "id": "738f0953",
   "metadata": {},
   "outputs": [
    {
     "data": {
      "text/plain": [
       "array([ 0, 98])"
      ]
     },
     "execution_count": 266,
     "metadata": {},
     "output_type": "execute_result"
    }
   ],
   "source": [
    "# Минимальный и максимальный элементы\n",
    "min = np.min(array_D)\n",
    "max = np.max(array_D)\n",
    "minmax = np.array([min, max])\n",
    "minmax"
   ]
  },
  {
   "cell_type": "markdown",
   "id": "905df7f7",
   "metadata": {},
   "source": [
    "**5. Поменять в двумерном массиве 3 и 4 строку между собой**"
   ]
  },
  {
   "cell_type": "code",
   "execution_count": 269,
   "id": "d5158ad1",
   "metadata": {},
   "outputs": [
    {
     "data": {
      "text/plain": [
       "array([[65, 76, 39],\n",
       "       [67, 70, 63],\n",
       "       [91, 59, 22],\n",
       "       [42, 40,  7],\n",
       "       [74, 20, 37]])"
      ]
     },
     "execution_count": 269,
     "metadata": {},
     "output_type": "execute_result"
    }
   ],
   "source": [
    "# Двумерный массив\n",
    "array_E = np.random.randint(99, size=(5, 3))\n",
    "array_E"
   ]
  },
  {
   "cell_type": "code",
   "execution_count": 270,
   "id": "1b2d5c74",
   "metadata": {},
   "outputs": [
    {
     "data": {
      "text/plain": [
       "array([[65, 76, 39],\n",
       "       [67, 70, 63],\n",
       "       [91, 59, 22],\n",
       "       [74, 20, 37],\n",
       "       [42, 40,  7]])"
      ]
     },
     "execution_count": 270,
     "metadata": {},
     "output_type": "execute_result"
    }
   ],
   "source": [
    "# Двумерный массив (строки 3 и 4 поменяли)\n",
    "array_E[[3, 4]] = array_E[[4, 3]]\n",
    "array_E"
   ]
  },
  {
   "cell_type": "markdown",
   "id": "152c2b08",
   "metadata": {},
   "source": [
    "**6. Поменять каждый 4-ый элемент в одномерном массиве на заданное число: 212**"
   ]
  },
  {
   "cell_type": "code",
   "execution_count": 4,
   "id": "f648ceea",
   "metadata": {},
   "outputs": [
    {
     "data": {
      "text/plain": [
       "array([ 3, 31, 46, 20, 44, 49, 10, 26,  5, 35])"
      ]
     },
     "execution_count": 4,
     "metadata": {},
     "output_type": "execute_result"
    }
   ],
   "source": [
    "# Массив\n",
    "array_F = np.random.randint(1, 50, 10)\n",
    "array_F"
   ]
  },
  {
   "cell_type": "code",
   "execution_count": 5,
   "id": "0b5cfe85",
   "metadata": {},
   "outputs": [
    {
     "data": {
      "text/plain": [
       "array([  3,  31,  46, 212,  44,  49,  10, 212,   5,  35])"
      ]
     },
     "execution_count": 5,
     "metadata": {},
     "output_type": "execute_result"
    }
   ],
   "source": [
    "# Массив после замены элементов\n",
    "s = array_F.size\n",
    "array_F[3::4]=212\n",
    "    \n",
    "array_F"
   ]
  },
  {
   "cell_type": "markdown",
   "id": "cff43ea4",
   "metadata": {},
   "source": [
    "**7. Используя циклы написать собственную реализацию умножения двух двумерных матриц, засечь время выполнения и сравнить его с функцией умножения матриц NumPy:**"
   ]
  },
  {
   "cell_type": "code",
   "execution_count": 21,
   "id": "e2343aab",
   "metadata": {},
   "outputs": [
    {
     "data": {
      "text/plain": [
       "array([[0.342, 0.874, 0.662, 0.544, 0.633, 0.001, 0.284, 0.197, 0.003],\n",
       "       [0.838, 0.112, 0.081, 0.592, 0.505, 0.166, 0.024, 0.928, 0.673],\n",
       "       [0.052, 0.2  , 0.371, 0.264, 0.284, 0.838, 0.321, 0.861, 0.031],\n",
       "       [0.165, 0.549, 0.629, 0.016, 0.731, 0.495, 0.868, 0.963, 0.614],\n",
       "       [0.759, 0.017, 0.923, 0.107, 0.836, 0.123, 0.917, 0.145, 0.118],\n",
       "       [0.436, 0.343, 0.29 , 0.862, 0.003, 0.623, 0.481, 0.547, 0.999],\n",
       "       [0.78 , 0.715, 0.704, 0.779, 0.202, 0.127, 0.734, 0.986, 0.663],\n",
       "       [0.556, 0.183, 0.98 , 0.639, 0.751, 0.059, 0.131, 0.762, 0.787],\n",
       "       [0.757, 0.46 , 0.702, 0.412, 0.58 , 0.742, 0.951, 0.354, 0.721]])"
      ]
     },
     "execution_count": 21,
     "metadata": {},
     "output_type": "execute_result"
    }
   ],
   "source": [
    "n = 9\n",
    "A = np.random.rand(n, n)\n",
    "\n",
    "# Округляем до 3х знаков после запятой\n",
    "A_array = np.array(A)\n",
    "round_A = np.around(A_array, 3)\n",
    "round_A"
   ]
  },
  {
   "cell_type": "code",
   "execution_count": 22,
   "id": "7df4a590",
   "metadata": {},
   "outputs": [
    {
     "data": {
      "text/plain": [
       "array([[0.299, 0.082, 0.937, 0.709, 0.305, 0.907, 0.835, 0.861, 0.066],\n",
       "       [0.659, 0.224, 0.034, 0.95 , 0.86 , 0.895, 0.96 , 0.052, 0.084],\n",
       "       [0.935, 0.877, 0.285, 0.344, 0.755, 0.683, 0.764, 0.136, 0.964],\n",
       "       [0.709, 0.097, 0.212, 0.732, 0.192, 0.226, 0.254, 0.045, 0.961],\n",
       "       [0.421, 0.227, 0.352, 0.273, 0.245, 0.952, 0.534, 0.994, 0.639],\n",
       "       [0.796, 0.358, 0.327, 0.84 , 0.265, 0.379, 0.574, 0.562, 0.263],\n",
       "       [0.998, 0.527, 0.897, 0.031, 0.985, 0.112, 0.812, 0.721, 0.323],\n",
       "       [0.956, 0.181, 0.841, 0.965, 0.448, 0.84 , 0.404, 0.597, 0.891],\n",
       "       [0.835, 0.343, 0.961, 0.222, 0.447, 0.955, 0.195, 0.379, 0.962]])"
      ]
     },
     "execution_count": 22,
     "metadata": {},
     "output_type": "execute_result"
    }
   ],
   "source": [
    "B = np.random.rand(n, n)\n",
    "\n",
    "# Округляем до 3х знаков после запятой\n",
    "B_array = np.array(B)\n",
    "round_B = np.around(B_array, 3)\n",
    "round_B"
   ]
  },
  {
   "cell_type": "code",
   "execution_count": 23,
   "id": "a34db6e7",
   "metadata": {},
   "outputs": [
    {
     "name": "stdout",
     "output_type": "stream",
     "text": [
      "CPU times: total: 0 ns\n",
      "Wall time: 0 ns\n"
     ]
    }
   ],
   "source": [
    "%%time\n",
    "C = A @ B"
   ]
  },
  {
   "cell_type": "code",
   "execution_count": 24,
   "id": "233c4d41",
   "metadata": {},
   "outputs": [
    {
     "name": "stdout",
     "output_type": "stream",
     "text": [
      "CPU times: total: 0 ns\n",
      "Wall time: 997 µs\n"
     ]
    },
    {
     "data": {
      "text/plain": [
       "array([[2.425, 1.187, 1.3  , 2.072, 1.985, 2.47 , 2.418, 1.408, 1.932],\n",
       "       [2.64 , 0.808, 2.62 , 2.486, 1.436, 3.019, 1.912, 2.188, 2.562],\n",
       "       [2.638, 1.099, 1.633, 2.176, 1.526, 1.916, 1.833, 1.628, 1.934],\n",
       "       [4.012, 1.874, 2.953, 2.574, 2.872, 3.45 , 3.038, 2.696, 3.004],\n",
       "       [2.78 , 1.67 , 2.39 , 1.476, 2.223, 2.538, 2.726, 2.477, 2.15 ],\n",
       "       [3.574, 1.369, 2.743, 2.654, 2.144, 2.802, 2.3  , 1.877, 2.936],\n",
       "       [4.331, 1.801, 3.358, 3.328, 3.078, 3.788, 3.378, 2.481, 3.455],\n",
       "       [3.536, 1.676, 2.74 , 2.541, 2.211, 3.624, 2.553, 2.277, 3.584],\n",
       "       [4.202, 2.029, 3.302, 2.83 , 2.991, 3.596, 3.506, 2.954, 3.043]])"
      ]
     },
     "execution_count": 24,
     "metadata": {},
     "output_type": "execute_result"
    }
   ],
   "source": [
    "%%time\n",
    "C = np.zeros((n, n))\n",
    "for i in range(n):\n",
    "    for j in range(n):\n",
    "        for k in range(n):\n",
    "            C[i, j] +=  A[i, k] * B[k, j]\n",
    "\n",
    "# Округляем до 3х знаков после запятой\n",
    "C_array = np.array(C)\n",
    "round_C = np.around(C_array, 3)\n",
    "round_C"
   ]
  },
  {
   "cell_type": "code",
   "execution_count": null,
   "id": "356ae916",
   "metadata": {},
   "outputs": [],
   "source": []
  }
 ],
 "metadata": {
  "kernelspec": {
   "display_name": "Python 3 (ipykernel)",
   "language": "python",
   "name": "python3"
  },
  "language_info": {
   "codemirror_mode": {
    "name": "ipython",
    "version": 3
   },
   "file_extension": ".py",
   "mimetype": "text/x-python",
   "name": "python",
   "nbconvert_exporter": "python",
   "pygments_lexer": "ipython3",
   "version": "3.9.10"
  }
 },
 "nbformat": 4,
 "nbformat_minor": 5
}
